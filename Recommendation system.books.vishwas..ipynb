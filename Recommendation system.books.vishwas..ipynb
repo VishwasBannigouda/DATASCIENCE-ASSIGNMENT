{
 "cells": [
  {
   "cell_type": "code",
   "execution_count": 2,
   "id": "6d273d9c",
   "metadata": {},
   "outputs": [],
   "source": [
    "import pandas as pd\n",
    "import numpy as np"
   ]
  },
  {
   "cell_type": "code",
   "execution_count": 3,
   "id": "2b0afac4",
   "metadata": {
    "scrolled": true
   },
   "outputs": [
    {
     "data": {
      "text/html": [
       "<div>\n",
       "<style scoped>\n",
       "    .dataframe tbody tr th:only-of-type {\n",
       "        vertical-align: middle;\n",
       "    }\n",
       "\n",
       "    .dataframe tbody tr th {\n",
       "        vertical-align: top;\n",
       "    }\n",
       "\n",
       "    .dataframe thead th {\n",
       "        text-align: right;\n",
       "    }\n",
       "</style>\n",
       "<table border=\"1\" class=\"dataframe\">\n",
       "  <thead>\n",
       "    <tr style=\"text-align: right;\">\n",
       "      <th></th>\n",
       "      <th>Unnamed: 0</th>\n",
       "      <th>UserID</th>\n",
       "      <th>BookTitle</th>\n",
       "      <th>BookRating</th>\n",
       "    </tr>\n",
       "  </thead>\n",
       "  <tbody>\n",
       "    <tr>\n",
       "      <th>0</th>\n",
       "      <td>1</td>\n",
       "      <td>276726</td>\n",
       "      <td>Classical Mythology</td>\n",
       "      <td>5</td>\n",
       "    </tr>\n",
       "    <tr>\n",
       "      <th>1</th>\n",
       "      <td>2</td>\n",
       "      <td>276729</td>\n",
       "      <td>Clara Callan</td>\n",
       "      <td>3</td>\n",
       "    </tr>\n",
       "    <tr>\n",
       "      <th>2</th>\n",
       "      <td>3</td>\n",
       "      <td>276729</td>\n",
       "      <td>Decision in Normandy</td>\n",
       "      <td>6</td>\n",
       "    </tr>\n",
       "    <tr>\n",
       "      <th>3</th>\n",
       "      <td>4</td>\n",
       "      <td>276736</td>\n",
       "      <td>Flu: The Story of the Great Influenza Pandemic...</td>\n",
       "      <td>8</td>\n",
       "    </tr>\n",
       "    <tr>\n",
       "      <th>4</th>\n",
       "      <td>5</td>\n",
       "      <td>276737</td>\n",
       "      <td>The Mummies of Urumchi</td>\n",
       "      <td>6</td>\n",
       "    </tr>\n",
       "    <tr>\n",
       "      <th>...</th>\n",
       "      <td>...</td>\n",
       "      <td>...</td>\n",
       "      <td>...</td>\n",
       "      <td>...</td>\n",
       "    </tr>\n",
       "    <tr>\n",
       "      <th>9995</th>\n",
       "      <td>9996</td>\n",
       "      <td>162121</td>\n",
       "      <td>American Fried: Adventures of a Happy Eater.</td>\n",
       "      <td>7</td>\n",
       "    </tr>\n",
       "    <tr>\n",
       "      <th>9996</th>\n",
       "      <td>9997</td>\n",
       "      <td>162121</td>\n",
       "      <td>Cannibal In Manhattan</td>\n",
       "      <td>9</td>\n",
       "    </tr>\n",
       "    <tr>\n",
       "      <th>9997</th>\n",
       "      <td>9998</td>\n",
       "      <td>162121</td>\n",
       "      <td>How to Flirt: A Practical Guide</td>\n",
       "      <td>7</td>\n",
       "    </tr>\n",
       "    <tr>\n",
       "      <th>9998</th>\n",
       "      <td>9999</td>\n",
       "      <td>162121</td>\n",
       "      <td>Twilight</td>\n",
       "      <td>8</td>\n",
       "    </tr>\n",
       "    <tr>\n",
       "      <th>9999</th>\n",
       "      <td>10000</td>\n",
       "      <td>162129</td>\n",
       "      <td>Kids Say the Darndest Things</td>\n",
       "      <td>6</td>\n",
       "    </tr>\n",
       "  </tbody>\n",
       "</table>\n",
       "<p>10000 rows × 4 columns</p>\n",
       "</div>"
      ],
      "text/plain": [
       "      Unnamed: 0  UserID                                          BookTitle  \\\n",
       "0              1  276726                                Classical Mythology   \n",
       "1              2  276729                                       Clara Callan   \n",
       "2              3  276729                               Decision in Normandy   \n",
       "3              4  276736  Flu: The Story of the Great Influenza Pandemic...   \n",
       "4              5  276737                             The Mummies of Urumchi   \n",
       "...          ...     ...                                                ...   \n",
       "9995        9996  162121       American Fried: Adventures of a Happy Eater.   \n",
       "9996        9997  162121                              Cannibal In Manhattan   \n",
       "9997        9998  162121                    How to Flirt: A Practical Guide   \n",
       "9998        9999  162121                                           Twilight   \n",
       "9999       10000  162129                       Kids Say the Darndest Things   \n",
       "\n",
       "      BookRating  \n",
       "0              5  \n",
       "1              3  \n",
       "2              6  \n",
       "3              8  \n",
       "4              6  \n",
       "...          ...  \n",
       "9995           7  \n",
       "9996           9  \n",
       "9997           7  \n",
       "9998           8  \n",
       "9999           6  \n",
       "\n",
       "[10000 rows x 4 columns]"
      ]
     },
     "execution_count": 3,
     "metadata": {},
     "output_type": "execute_result"
    }
   ],
   "source": [
    "data=pd.read_csv('C:\\\\Users\\\\vishw\\\\excelr drive files\\\\Assignments questions of excelr\\\\Recommended_system\\\\book.csv')\n",
    "data"
   ]
  },
  {
   "cell_type": "markdown",
   "id": "0ae8c150",
   "metadata": {},
   "source": [
    "# Number of unique users "
   ]
  },
  {
   "cell_type": "code",
   "execution_count": 3,
   "id": "85afed60",
   "metadata": {},
   "outputs": [
    {
     "data": {
      "text/plain": [
       "2182"
      ]
     },
     "execution_count": 3,
     "metadata": {},
     "output_type": "execute_result"
    }
   ],
   "source": [
    "len(data.UserID.unique())"
   ]
  },
  {
   "cell_type": "code",
   "execution_count": 4,
   "id": "f96a9d9d",
   "metadata": {},
   "outputs": [
    {
     "data": {
      "text/plain": [
       "9659"
      ]
     },
     "execution_count": 4,
     "metadata": {},
     "output_type": "execute_result"
    }
   ],
   "source": [
    "len(data.BookTitle.unique())"
   ]
  },
  {
   "cell_type": "code",
   "execution_count": 5,
   "id": "3dc3afd4",
   "metadata": {},
   "outputs": [
    {
     "data": {
      "text/plain": [
       "10"
      ]
     },
     "execution_count": 5,
     "metadata": {},
     "output_type": "execute_result"
    }
   ],
   "source": [
    "len(data.BookRating.unique())"
   ]
  },
  {
   "cell_type": "code",
   "execution_count": 6,
   "id": "9edf1a92",
   "metadata": {},
   "outputs": [
    {
     "data": {
      "text/html": [
       "<div>\n",
       "<style scoped>\n",
       "    .dataframe tbody tr th:only-of-type {\n",
       "        vertical-align: middle;\n",
       "    }\n",
       "\n",
       "    .dataframe tbody tr th {\n",
       "        vertical-align: top;\n",
       "    }\n",
       "\n",
       "    .dataframe thead th {\n",
       "        text-align: right;\n",
       "    }\n",
       "</style>\n",
       "<table border=\"1\" class=\"dataframe\">\n",
       "  <thead>\n",
       "    <tr style=\"text-align: right;\">\n",
       "      <th></th>\n",
       "      <th>Unnamed: 0</th>\n",
       "      <th>UserID</th>\n",
       "      <th>BookTitle</th>\n",
       "      <th>BookRating</th>\n",
       "    </tr>\n",
       "  </thead>\n",
       "  <tbody>\n",
       "  </tbody>\n",
       "</table>\n",
       "</div>"
      ],
      "text/plain": [
       "Empty DataFrame\n",
       "Columns: [Unnamed: 0, UserID, BookTitle, BookRating]\n",
       "Index: []"
      ]
     },
     "execution_count": 6,
     "metadata": {},
     "output_type": "execute_result"
    }
   ],
   "source": [
    "data[data.duplicated(keep=False)]"
   ]
  },
  {
   "cell_type": "code",
   "execution_count": 17,
   "id": "24db7b18",
   "metadata": {},
   "outputs": [
    {
     "data": {
      "text/plain": [
       "0"
      ]
     },
     "execution_count": 17,
     "metadata": {},
     "output_type": "execute_result"
    }
   ],
   "source": [
    "data[\"BookTitle\"].isnull().sum() "
   ]
  },
  {
   "cell_type": "code",
   "execution_count": 18,
   "id": "d8ecd0f6",
   "metadata": {},
   "outputs": [
    {
     "data": {
      "text/plain": [
       "0"
      ]
     },
     "execution_count": 18,
     "metadata": {},
     "output_type": "execute_result"
    }
   ],
   "source": [
    "data[\"BookRating\"].isnull().sum() "
   ]
  },
  {
   "cell_type": "code",
   "execution_count": 19,
   "id": "3380a326",
   "metadata": {},
   "outputs": [],
   "source": [
    "from sklearn.feature_extraction.text import TfidfVectorizer\n",
    "tfidf = TfidfVectorizer(stop_words=\"english\") "
   ]
  },
  {
   "cell_type": "code",
   "execution_count": 21,
   "id": "789b664f",
   "metadata": {},
   "outputs": [
    {
     "data": {
      "text/plain": [
       "(10000, 11338)"
      ]
     },
     "execution_count": 21,
     "metadata": {},
     "output_type": "execute_result"
    }
   ],
   "source": [
    "tfidf_matrix = tfidf.fit_transform(data['BookTitle']) \n",
    "tfidf_matrix.shape"
   ]
  },
  {
   "cell_type": "code",
   "execution_count": 23,
   "id": "da4da30f",
   "metadata": {},
   "outputs": [
    {
     "name": "stderr",
     "output_type": "stream",
     "text": [
      "C:\\Users\\vishw\\anaconda3\\lib\\site-packages\\seaborn\\_decorators.py:36: FutureWarning: Pass the following variable as a keyword arg: x. From version 0.12, the only valid positional argument will be `data`, and passing other arguments without an explicit keyword will result in an error or misinterpretation.\n",
      "  warnings.warn(\n"
     ]
    },
    {
     "data": {
      "image/png": "[encoded data removed]",
      "text/plain": [
       "<Figure size 432x288 with 1 Axes>"
      ]
     },
     "metadata": {
      "needs_background": "light"
     },
     "output_type": "display_data"
    }
   ],
   "source": [
    "import matplotlib.pyplot as plt\n",
    "import seaborn as sns\n",
    "sns.countplot(data['BookRating'])\n",
    "plt.show()"
   ]
  },
  {
   "cell_type": "code",
   "execution_count": 24,
   "id": "d48bb4e7",
   "metadata": {},
   "outputs": [],
   "source": [
    "from sklearn.metrics.pairwise import linear_kernel\n",
    "cosine_sim_matrix = linear_kernel(tfidf_matrix,tfidf_matrix)"
   ]
  },
  {
   "cell_type": "code",
   "execution_count": 25,
   "id": "7c0a917b",
   "metadata": {},
   "outputs": [],
   "source": [
    "book_index = pd.Series(data.index,index=data['BookTitle']).drop_duplicates()"
   ]
  },
  {
   "cell_type": "code",
   "execution_count": 26,
   "id": "829aa674",
   "metadata": {},
   "outputs": [
    {
     "data": {
      "text/plain": [
       "2"
      ]
     },
     "execution_count": 26,
     "metadata": {},
     "output_type": "execute_result"
    }
   ],
   "source": [
    "book_index['Decision in Normandy']"
   ]
  },
  {
   "cell_type": "code",
   "execution_count": 27,
   "id": "08298bbe",
   "metadata": {},
   "outputs": [
    {
     "data": {
      "text/plain": [
       "4"
      ]
     },
     "execution_count": 27,
     "metadata": {},
     "output_type": "execute_result"
    }
   ],
   "source": [
    "book_index['The Mummies of Urumchi']"
   ]
  },
  {
   "cell_type": "code",
   "execution_count": 39,
   "id": "8c48608a",
   "metadata": {},
   "outputs": [],
   "source": [
    "def get_book_recommendations(Name,topN):\n",
    "    #topN = 10\n",
    "    # Getting the book index using its title \n",
    "    book_id = book_index[Name]\n",
    "    \n",
    "    # Getting the pair wise similarity score for all the anime's with that \n",
    "    # anime\n",
    "    cosine_scores = list(enumerate(cosine_sim_matrix[book_id]))\n",
    "    \n",
    "    # Sorting the cosine_similarity scores based on scores \n",
    "    cosine_scores = sorted(cosine_scores,key=lambda x:x[1],reverse = True)\n",
    "    \n",
    "    # Get the scores of top 10 most similar book's \n",
    "    cosine_scores_10 = cosine_scores[0:topN+1]\n",
    "    \n",
    "    # Getting the book index \n",
    "    book_idx  =  [i[0] for i in cosine_scores_10]\n",
    "    book_scores =  [i[1] for i in cosine_scores_10]\n",
    "    \n",
    "    # Similar movies and scores\n",
    "    book_similar = pd.DataFrame(columns=[\"BookTitle\",\"BookRating\"])\n",
    "    book_similar[\"BookTitle\"] = data.loc[book_idx,\"BookTitle\"]\n",
    "    book_similar[\"BookRating\"] = book_scores\n",
    "    book_similar.reset_index(inplace=True)  \n",
    "    book_similar.drop([\"index\"],axis=1,inplace=True)\n",
    "    print (book_similar)"
   ]
  },
  {
   "cell_type": "code",
   "execution_count": 40,
   "id": "3ea088ba",
   "metadata": {},
   "outputs": [
    {
     "name": "stdout",
     "output_type": "stream",
     "text": [
      "                                           BookTitle  BookRating\n",
      "0                             The Mummies of Urumchi         1.0\n",
      "1                                Classical Mythology         0.0\n",
      "2                                       Clara Callan         0.0\n",
      "3                               Decision in Normandy         0.0\n",
      "4  Flu: The Story of the Great Influenza Pandemic...         0.0\n",
      "5                             The Kitchen God's Wife         0.0\n"
     ]
    }
   ],
   "source": [
    "get_book_recommendations(\"The Mummies of Urumchi\",topN=5)"
   ]
  },
  {
   "cell_type": "code",
   "execution_count": null,
   "id": "397ac77b",
   "metadata": {},
   "outputs": [],
   "source": []
  }
 ],
 "metadata": {
  "kernelspec": {
   "display_name": "Python 3",
   "language": "python",
   "name": "python3"
  },
  "language_info": {
   "codemirror_mode": {
    "name": "ipython",
    "version": 3
   },
   "file_extension": ".py",
   "mimetype": "text/x-python",
   "name": "python",
   "nbconvert_exporter": "python",
   "pygments_lexer": "ipython3",
   "version": "3.8.8"
  }
 },
 "nbformat": 4,
 "nbformat_minor": 5
}
